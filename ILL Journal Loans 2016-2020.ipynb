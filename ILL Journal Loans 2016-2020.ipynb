{
 "cells": [
  {
   "cell_type": "code",
   "execution_count": null,
   "metadata": {},
   "outputs": [],
   "source": [
    "import pandas as pd\n",
    "from matplotlib import pyplot as plt\n",
    "import numpy as np"
   ]
  },
  {
   "cell_type": "code",
   "execution_count": null,
   "metadata": {},
   "outputs": [],
   "source": [
    "jo_loan_2016 = pd.read_csv('c:\\\\MyPythonScripts\\\\top_requests_ill\\\\ill_borrow_2016.csv', sep=',')\n",
    "jo_loan_2017 = pd.read_csv('c:\\\\MyPythonScripts\\\\top_requests_ill\\\\ill_borrow_2017.csv', sep=',')\n",
    "jo_loan_2018 = pd.read_csv('c:\\\\MyPythonScripts\\\\top_requests_ill\\\\ill_borrow_2018.csv', sep=',')\n",
    "jo_loan_2019 = pd.read_csv('c:\\\\MyPythonScripts\\\\top_requests_ill\\\\ill_borrow_2019.csv', sep=',')\n",
    "jo_loan_2020 = pd.read_csv('c:\\\\MyPythonScripts\\\\top_requests_ill\\\\ill_borrow_2020.csv', sep=',')"
   ]
  },
  {
   "cell_type": "code",
   "execution_count": null,
   "metadata": {},
   "outputs": [],
   "source": [
    "jo_loan_2016.rename(columns={\"Number of Requests\":\"requests\", \"Journal Name\":\"journal_name\"},inplace=True)\n",
    "jo_loan_2017.rename(columns={\"Number of Requests\":\"requests\", \"Journal Name\":\"journal_name\"},inplace=True)\n",
    "jo_loan_2018.rename(columns={\"Number of Requests\":\"requests\", \"Journal Name\":\"journal_name\"},inplace=True)\n",
    "jo_loan_2019.rename(columns={\"Number of Requests\":\"requests\", \"Journal Name\":\"journal_name\"},inplace=True)\n",
    "jo_loan_2020.rename(columns={\"Number of Requests\":\"requests\", \"Journal Name\":\"journal_name\"},inplace=True)"
   ]
  },
  {
   "cell_type": "code",
   "execution_count": null,
   "metadata": {},
   "outputs": [],
   "source": [
    "all_jo_loan = [jo_loan_2016, jo_loan_2017, jo_loan_2018, jo_loan_2019, jo_loan_2020]\n",
    "all_titles = pd.concat(all_jo_loan)"
   ]
  },
  {
   "cell_type": "code",
   "execution_count": null,
   "metadata": {},
   "outputs": [],
   "source": [
    "all_titles = all_titles[all_titles.requests >= 0]\n",
    "all_titles.groupby(all_titles['journal_name'].str.lower()).sum().reset_index().sort_values('requests', ascending=False).head(50)"
   ]
  },
  {
   "cell_type": "code",
   "execution_count": null,
   "metadata": {},
   "outputs": [],
   "source": [
    "jo_loan_2016['year'] = '2016'\n",
    "jo_loan_2017['year'] = '2017'\n",
    "jo_loan_2018['year'] = '2018'\n",
    "jo_loan_2019['year'] = '2019'\n",
    "jo_loan_2020['year'] = '2020'"
   ]
  },
  {
   "cell_type": "code",
   "execution_count": null,
   "metadata": {},
   "outputs": [],
   "source": [
    "titles_2016 = jo_loan_2016[(jo_loan_2016['journal_name'].str.contains(\"current pharmaceutical design|Curr Pharm Des\", case = False))]\n",
    "titles_2017 = jo_loan_2017[(jo_loan_2017['journal_name'].str.contains(\"current pharmaceutical design|Curr Pharm Des\", case = False))]\n",
    "titles_2018 = jo_loan_2018[(jo_loan_2018['journal_name'].str.contains(\"current pharmaceutical design|Curr Pharm Des\", case = False))]\n",
    "titles_2019 = jo_loan_2019[(jo_loan_2019['journal_name'].str.contains(\"current pharmaceutical design|Curr Pharm Des\", case = False))]\n",
    "titles_2020 = jo_loan_2020[(jo_loan_2020['journal_name'].str.contains(\"current pharmaceutical design|Curr Pharm Des\", case = False))]"
   ]
  },
  {
   "cell_type": "code",
   "execution_count": null,
   "metadata": {},
   "outputs": [],
   "source": [
    "titles = [titles_2016, titles_2017, titles_2018, titles_2019, titles_2020]\n",
    "result = pd.concat(titles)"
   ]
  },
  {
   "cell_type": "code",
   "execution_count": null,
   "metadata": {},
   "outputs": [],
   "source": [
    "#Resquests by year \n",
    "ax = result.groupby('year').sum().plot(y='requests', kind='bar')\n",
    "for p in ax.patches:\n",
    "    ax.annotate(str(p.get_height()), (p.get_x() * 1.005, p.get_height() * 1.005))"
   ]
  },
  {
   "cell_type": "code",
   "execution_count": null,
   "metadata": {},
   "outputs": [],
   "source": [
    "#Requests by title\n",
    "ax = result.groupby('Department').sum().plot(y='requests', kind='bar')\n",
    "for p in ax.patches:\n",
    "    ax.annotate(str(p.get_height()), (p.get_x() * 1.005, p.get_height() * 1.005))"
   ]
  }
 ],
 "metadata": {
  "kernelspec": {
   "display_name": "Python 3",
   "language": "python",
   "name": "python3"
  },
  "language_info": {
   "codemirror_mode": {
    "name": "ipython",
    "version": 3
   },
   "file_extension": ".py",
   "mimetype": "text/x-python",
   "name": "python",
   "nbconvert_exporter": "python",
   "pygments_lexer": "ipython3",
   "version": "3.7.3"
  }
 },
 "nbformat": 4,
 "nbformat_minor": 4
}
